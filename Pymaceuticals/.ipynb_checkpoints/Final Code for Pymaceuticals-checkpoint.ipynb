{
 "cells": [
  {
   "cell_type": "markdown",
   "id": "812d9c25",
   "metadata": {},
   "source": [
    "# Reading in and minor cleaning of data"
   ]
  },
  {
   "cell_type": "code",
   "execution_count": 135,
   "id": "688e610e",
   "metadata": {
    "scrolled": true
   },
   "outputs": [
    {
     "data": {
      "text/html": [
       "<div>\n",
       "<style scoped>\n",
       "    .dataframe tbody tr th:only-of-type {\n",
       "        vertical-align: middle;\n",
       "    }\n",
       "\n",
       "    .dataframe tbody tr th {\n",
       "        vertical-align: top;\n",
       "    }\n",
       "\n",
       "    .dataframe thead th {\n",
       "        text-align: right;\n",
       "    }\n",
       "</style>\n",
       "<table border=\"1\" class=\"dataframe\">\n",
       "  <thead>\n",
       "    <tr style=\"text-align: right;\">\n",
       "      <th></th>\n",
       "      <th>Mouse ID</th>\n",
       "      <th>Timepoint</th>\n",
       "      <th>Drug Regimen</th>\n",
       "      <th>Sex</th>\n",
       "      <th>Age_months</th>\n",
       "      <th>Weight (g)</th>\n",
       "      <th>Tumor Volume (mm3)</th>\n",
       "      <th>Metastatic Sites</th>\n",
       "    </tr>\n",
       "  </thead>\n",
       "  <tbody>\n",
       "    <tr>\n",
       "      <th>0</th>\n",
       "      <td>k403</td>\n",
       "      <td>0</td>\n",
       "      <td>Ramicane</td>\n",
       "      <td>Male</td>\n",
       "      <td>21</td>\n",
       "      <td>16</td>\n",
       "      <td>45.000000</td>\n",
       "      <td>0</td>\n",
       "    </tr>\n",
       "    <tr>\n",
       "      <th>1</th>\n",
       "      <td>k403</td>\n",
       "      <td>5</td>\n",
       "      <td>Ramicane</td>\n",
       "      <td>Male</td>\n",
       "      <td>21</td>\n",
       "      <td>16</td>\n",
       "      <td>38.825898</td>\n",
       "      <td>0</td>\n",
       "    </tr>\n",
       "    <tr>\n",
       "      <th>2</th>\n",
       "      <td>k403</td>\n",
       "      <td>10</td>\n",
       "      <td>Ramicane</td>\n",
       "      <td>Male</td>\n",
       "      <td>21</td>\n",
       "      <td>16</td>\n",
       "      <td>35.014271</td>\n",
       "      <td>1</td>\n",
       "    </tr>\n",
       "    <tr>\n",
       "      <th>3</th>\n",
       "      <td>k403</td>\n",
       "      <td>15</td>\n",
       "      <td>Ramicane</td>\n",
       "      <td>Male</td>\n",
       "      <td>21</td>\n",
       "      <td>16</td>\n",
       "      <td>34.223992</td>\n",
       "      <td>1</td>\n",
       "    </tr>\n",
       "    <tr>\n",
       "      <th>4</th>\n",
       "      <td>k403</td>\n",
       "      <td>20</td>\n",
       "      <td>Ramicane</td>\n",
       "      <td>Male</td>\n",
       "      <td>21</td>\n",
       "      <td>16</td>\n",
       "      <td>32.997729</td>\n",
       "      <td>1</td>\n",
       "    </tr>\n",
       "    <tr>\n",
       "      <th>...</th>\n",
       "      <td>...</td>\n",
       "      <td>...</td>\n",
       "      <td>...</td>\n",
       "      <td>...</td>\n",
       "      <td>...</td>\n",
       "      <td>...</td>\n",
       "      <td>...</td>\n",
       "      <td>...</td>\n",
       "    </tr>\n",
       "    <tr>\n",
       "      <th>1888</th>\n",
       "      <td>z969</td>\n",
       "      <td>25</td>\n",
       "      <td>Naftisol</td>\n",
       "      <td>Male</td>\n",
       "      <td>9</td>\n",
       "      <td>30</td>\n",
       "      <td>63.145652</td>\n",
       "      <td>2</td>\n",
       "    </tr>\n",
       "    <tr>\n",
       "      <th>1889</th>\n",
       "      <td>z969</td>\n",
       "      <td>30</td>\n",
       "      <td>Naftisol</td>\n",
       "      <td>Male</td>\n",
       "      <td>9</td>\n",
       "      <td>30</td>\n",
       "      <td>65.841013</td>\n",
       "      <td>3</td>\n",
       "    </tr>\n",
       "    <tr>\n",
       "      <th>1890</th>\n",
       "      <td>z969</td>\n",
       "      <td>35</td>\n",
       "      <td>Naftisol</td>\n",
       "      <td>Male</td>\n",
       "      <td>9</td>\n",
       "      <td>30</td>\n",
       "      <td>69.176246</td>\n",
       "      <td>4</td>\n",
       "    </tr>\n",
       "    <tr>\n",
       "      <th>1891</th>\n",
       "      <td>z969</td>\n",
       "      <td>40</td>\n",
       "      <td>Naftisol</td>\n",
       "      <td>Male</td>\n",
       "      <td>9</td>\n",
       "      <td>30</td>\n",
       "      <td>70.314904</td>\n",
       "      <td>4</td>\n",
       "    </tr>\n",
       "    <tr>\n",
       "      <th>1892</th>\n",
       "      <td>z969</td>\n",
       "      <td>45</td>\n",
       "      <td>Naftisol</td>\n",
       "      <td>Male</td>\n",
       "      <td>9</td>\n",
       "      <td>30</td>\n",
       "      <td>73.867845</td>\n",
       "      <td>4</td>\n",
       "    </tr>\n",
       "  </tbody>\n",
       "</table>\n",
       "<p>1893 rows × 8 columns</p>\n",
       "</div>"
      ],
      "text/plain": [
       "     Mouse ID  Timepoint Drug Regimen   Sex  Age_months  Weight (g)  \\\n",
       "0        k403          0     Ramicane  Male          21          16   \n",
       "1        k403          5     Ramicane  Male          21          16   \n",
       "2        k403         10     Ramicane  Male          21          16   \n",
       "3        k403         15     Ramicane  Male          21          16   \n",
       "4        k403         20     Ramicane  Male          21          16   \n",
       "...       ...        ...          ...   ...         ...         ...   \n",
       "1888     z969         25     Naftisol  Male           9          30   \n",
       "1889     z969         30     Naftisol  Male           9          30   \n",
       "1890     z969         35     Naftisol  Male           9          30   \n",
       "1891     z969         40     Naftisol  Male           9          30   \n",
       "1892     z969         45     Naftisol  Male           9          30   \n",
       "\n",
       "      Tumor Volume (mm3)  Metastatic Sites  \n",
       "0              45.000000                 0  \n",
       "1              38.825898                 0  \n",
       "2              35.014271                 1  \n",
       "3              34.223992                 1  \n",
       "4              32.997729                 1  \n",
       "...                  ...               ...  \n",
       "1888           63.145652                 2  \n",
       "1889           65.841013                 3  \n",
       "1890           69.176246                 4  \n",
       "1891           70.314904                 4  \n",
       "1892           73.867845                 4  \n",
       "\n",
       "[1893 rows x 8 columns]"
      ]
     },
     "execution_count": 135,
     "metadata": {},
     "output_type": "execute_result"
    }
   ],
   "source": [
    "import matplotlib.pyplot as plt\n",
    "import matplotlib\n",
    "import numpy as np\n",
    "import pandas as pd\n",
    "import scipy.stats as st\n",
    "from scipy import stats\n",
    "\n",
    "# Study data files\n",
    "mouse_metadata_path = \"data/Mouse_metadata.csv\"\n",
    "study_results_path = \"data/Study_results.csv\"\n",
    "\n",
    "# Read the mouse data and the study results\n",
    "mouse_metadata = pd.read_csv(mouse_metadata_path)\n",
    "study_results = pd.read_csv(study_results_path)\n",
    "mouse_metadata\n",
    "study_results\n",
    "\n",
    "merged_data=pd.merge(mouse_metadata, study_results, how=\"left\", on=[\"Mouse ID\",\"Mouse ID\"])\n",
    "merged_data.head()\n",
    "\n",
    "organized_merged_data=merged_data[[\"Mouse ID\", \"Timepoint\", \"Drug Regimen\", \"Sex\", \"Age_months\", \"Weight (g)\", \"Tumor Volume (mm3)\", \"Metastatic Sites\"]]\n",
    "organized_merged_data"
   ]
  },
  {
   "cell_type": "code",
   "execution_count": 3,
   "id": "803cb12a",
   "metadata": {},
   "outputs": [
    {
     "name": "stdout",
     "output_type": "stream",
     "text": [
      "There are 249 unique mice in the dataset.\n"
     ]
    }
   ],
   "source": [
    "# Checking the number of mice.\n",
    "unique_mice=organized_merged_data['Mouse ID'].unique()\n",
    "no_unique_mice=len(unique_mice)\n",
    "print(f\"There are {no_unique_mice} unique mice in the dataset.\")"
   ]
  },
  {
   "cell_type": "code",
   "execution_count": 157,
   "id": "d60f51fe",
   "metadata": {
    "scrolled": false
   },
   "outputs": [
    {
     "data": {
      "text/plain": [
       "0       False\n",
       "1       False\n",
       "2       False\n",
       "3       False\n",
       "4       False\n",
       "        ...  \n",
       "1888    False\n",
       "1889    False\n",
       "1890    False\n",
       "1891    False\n",
       "1892    False\n",
       "Length: 1893, dtype: bool"
      ]
     },
     "execution_count": 157,
     "metadata": {},
     "output_type": "execute_result"
    }
   ],
   "source": [
    "organized_merged_data.duplicated()\n",
    "#new_df=organized_merged_data.drop_duplicates(inplace=True)\n",
    "#new_df.head()\n"
   ]
  },
  {
   "cell_type": "code",
   "execution_count": 162,
   "id": "32dbc1ea",
   "metadata": {},
   "outputs": [
    {
     "data": {
      "text/html": [
       "<div>\n",
       "<style scoped>\n",
       "    .dataframe tbody tr th:only-of-type {\n",
       "        vertical-align: middle;\n",
       "    }\n",
       "\n",
       "    .dataframe tbody tr th {\n",
       "        vertical-align: top;\n",
       "    }\n",
       "\n",
       "    .dataframe thead th {\n",
       "        text-align: right;\n",
       "    }\n",
       "</style>\n",
       "<table border=\"1\" class=\"dataframe\">\n",
       "  <thead>\n",
       "    <tr style=\"text-align: right;\">\n",
       "      <th></th>\n",
       "      <th>Mouse ID</th>\n",
       "      <th>Timepoint</th>\n",
       "      <th>Drug Regimen</th>\n",
       "      <th>Sex</th>\n",
       "      <th>Age_months</th>\n",
       "      <th>Weight (g)</th>\n",
       "      <th>Tumor Volume (mm3)</th>\n",
       "      <th>Metastatic Sites</th>\n",
       "    </tr>\n",
       "  </thead>\n",
       "  <tbody>\n",
       "    <tr>\n",
       "      <th>0</th>\n",
       "      <td>k403</td>\n",
       "      <td>0</td>\n",
       "      <td>Ramicane</td>\n",
       "      <td>Male</td>\n",
       "      <td>21</td>\n",
       "      <td>16</td>\n",
       "      <td>45.000000</td>\n",
       "      <td>0</td>\n",
       "    </tr>\n",
       "    <tr>\n",
       "      <th>1</th>\n",
       "      <td>k403</td>\n",
       "      <td>5</td>\n",
       "      <td>Ramicane</td>\n",
       "      <td>Male</td>\n",
       "      <td>21</td>\n",
       "      <td>16</td>\n",
       "      <td>38.825898</td>\n",
       "      <td>0</td>\n",
       "    </tr>\n",
       "    <tr>\n",
       "      <th>2</th>\n",
       "      <td>k403</td>\n",
       "      <td>10</td>\n",
       "      <td>Ramicane</td>\n",
       "      <td>Male</td>\n",
       "      <td>21</td>\n",
       "      <td>16</td>\n",
       "      <td>35.014271</td>\n",
       "      <td>1</td>\n",
       "    </tr>\n",
       "    <tr>\n",
       "      <th>3</th>\n",
       "      <td>k403</td>\n",
       "      <td>15</td>\n",
       "      <td>Ramicane</td>\n",
       "      <td>Male</td>\n",
       "      <td>21</td>\n",
       "      <td>16</td>\n",
       "      <td>34.223992</td>\n",
       "      <td>1</td>\n",
       "    </tr>\n",
       "    <tr>\n",
       "      <th>4</th>\n",
       "      <td>k403</td>\n",
       "      <td>20</td>\n",
       "      <td>Ramicane</td>\n",
       "      <td>Male</td>\n",
       "      <td>21</td>\n",
       "      <td>16</td>\n",
       "      <td>32.997729</td>\n",
       "      <td>1</td>\n",
       "    </tr>\n",
       "    <tr>\n",
       "      <th>...</th>\n",
       "      <td>...</td>\n",
       "      <td>...</td>\n",
       "      <td>...</td>\n",
       "      <td>...</td>\n",
       "      <td>...</td>\n",
       "      <td>...</td>\n",
       "      <td>...</td>\n",
       "      <td>...</td>\n",
       "    </tr>\n",
       "    <tr>\n",
       "      <th>1888</th>\n",
       "      <td>z969</td>\n",
       "      <td>25</td>\n",
       "      <td>Naftisol</td>\n",
       "      <td>Male</td>\n",
       "      <td>9</td>\n",
       "      <td>30</td>\n",
       "      <td>63.145652</td>\n",
       "      <td>2</td>\n",
       "    </tr>\n",
       "    <tr>\n",
       "      <th>1889</th>\n",
       "      <td>z969</td>\n",
       "      <td>30</td>\n",
       "      <td>Naftisol</td>\n",
       "      <td>Male</td>\n",
       "      <td>9</td>\n",
       "      <td>30</td>\n",
       "      <td>65.841013</td>\n",
       "      <td>3</td>\n",
       "    </tr>\n",
       "    <tr>\n",
       "      <th>1890</th>\n",
       "      <td>z969</td>\n",
       "      <td>35</td>\n",
       "      <td>Naftisol</td>\n",
       "      <td>Male</td>\n",
       "      <td>9</td>\n",
       "      <td>30</td>\n",
       "      <td>69.176246</td>\n",
       "      <td>4</td>\n",
       "    </tr>\n",
       "    <tr>\n",
       "      <th>1891</th>\n",
       "      <td>z969</td>\n",
       "      <td>40</td>\n",
       "      <td>Naftisol</td>\n",
       "      <td>Male</td>\n",
       "      <td>9</td>\n",
       "      <td>30</td>\n",
       "      <td>70.314904</td>\n",
       "      <td>4</td>\n",
       "    </tr>\n",
       "    <tr>\n",
       "      <th>1892</th>\n",
       "      <td>z969</td>\n",
       "      <td>45</td>\n",
       "      <td>Naftisol</td>\n",
       "      <td>Male</td>\n",
       "      <td>9</td>\n",
       "      <td>30</td>\n",
       "      <td>73.867845</td>\n",
       "      <td>4</td>\n",
       "    </tr>\n",
       "  </tbody>\n",
       "</table>\n",
       "<p>1888 rows × 8 columns</p>\n",
       "</div>"
      ],
      "text/plain": [
       "     Mouse ID  Timepoint Drug Regimen   Sex  Age_months  Weight (g)  \\\n",
       "0        k403          0     Ramicane  Male          21          16   \n",
       "1        k403          5     Ramicane  Male          21          16   \n",
       "2        k403         10     Ramicane  Male          21          16   \n",
       "3        k403         15     Ramicane  Male          21          16   \n",
       "4        k403         20     Ramicane  Male          21          16   \n",
       "...       ...        ...          ...   ...         ...         ...   \n",
       "1888     z969         25     Naftisol  Male           9          30   \n",
       "1889     z969         30     Naftisol  Male           9          30   \n",
       "1890     z969         35     Naftisol  Male           9          30   \n",
       "1891     z969         40     Naftisol  Male           9          30   \n",
       "1892     z969         45     Naftisol  Male           9          30   \n",
       "\n",
       "      Tumor Volume (mm3)  Metastatic Sites  \n",
       "0              45.000000                 0  \n",
       "1              38.825898                 0  \n",
       "2              35.014271                 1  \n",
       "3              34.223992                 1  \n",
       "4              32.997729                 1  \n",
       "...                  ...               ...  \n",
       "1888           63.145652                 2  \n",
       "1889           65.841013                 3  \n",
       "1890           69.176246                 4  \n",
       "1891           70.314904                 4  \n",
       "1892           73.867845                 4  \n",
       "\n",
       "[1888 rows x 8 columns]"
      ]
     },
     "execution_count": 162,
     "metadata": {},
     "output_type": "execute_result"
    }
   ],
   "source": [
    "#drop duplicated Mouse ID + Timepoint entries\n",
    "duplicates_gone=organized_merged_data.drop_duplicates(subset=['Mouse ID','Timepoint'])\n",
    "len(duplicates_gone['Mouse ID'].unique())\n",
    "duplicates_gone\n"
   ]
  },
  {
   "cell_type": "code",
   "execution_count": 163,
   "id": "23ad1276",
   "metadata": {},
   "outputs": [
    {
     "name": "stdout",
     "output_type": "stream",
     "text": [
      "249\n"
     ]
    }
   ],
   "source": [
    "print(len(duplicates_gone['Mouse ID'].unique()))"
   ]
  },
  {
   "cell_type": "markdown",
   "id": "c2f63754",
   "metadata": {},
   "source": [
    "# Determine summary statistics for each drug regimen"
   ]
  },
  {
   "cell_type": "code",
   "execution_count": 6,
   "id": "0149e350",
   "metadata": {},
   "outputs": [
    {
     "data": {
      "text/html": [
       "<div>\n",
       "<style scoped>\n",
       "    .dataframe tbody tr th:only-of-type {\n",
       "        vertical-align: middle;\n",
       "    }\n",
       "\n",
       "    .dataframe tbody tr th {\n",
       "        vertical-align: top;\n",
       "    }\n",
       "\n",
       "    .dataframe thead th {\n",
       "        text-align: right;\n",
       "    }\n",
       "</style>\n",
       "<table border=\"1\" class=\"dataframe\">\n",
       "  <thead>\n",
       "    <tr style=\"text-align: right;\">\n",
       "      <th></th>\n",
       "      <th>Mean Tumor Volume (mm3)</th>\n",
       "      <th>Median Tumor Volume (mm3)</th>\n",
       "      <th>Variance Tumor Volume (mm3)</th>\n",
       "      <th>Standard Deviation Total Volume (mm3)</th>\n",
       "      <th>Standard Error of the Mean Total Volume (mm3)</th>\n",
       "    </tr>\n",
       "    <tr>\n",
       "      <th>Drug Regimen</th>\n",
       "      <th></th>\n",
       "      <th></th>\n",
       "      <th></th>\n",
       "      <th></th>\n",
       "      <th></th>\n",
       "    </tr>\n",
       "  </thead>\n",
       "  <tbody>\n",
       "    <tr>\n",
       "      <th>Capomulin</th>\n",
       "      <td>40.675741</td>\n",
       "      <td>41.557809</td>\n",
       "      <td>24.947764</td>\n",
       "      <td>4.994774</td>\n",
       "      <td>0.329346</td>\n",
       "    </tr>\n",
       "    <tr>\n",
       "      <th>Ceftamin</th>\n",
       "      <td>52.591172</td>\n",
       "      <td>51.776157</td>\n",
       "      <td>39.290177</td>\n",
       "      <td>6.268188</td>\n",
       "      <td>0.469821</td>\n",
       "    </tr>\n",
       "    <tr>\n",
       "      <th>Infubinol</th>\n",
       "      <td>52.884795</td>\n",
       "      <td>51.820584</td>\n",
       "      <td>43.128684</td>\n",
       "      <td>6.567243</td>\n",
       "      <td>0.492236</td>\n",
       "    </tr>\n",
       "    <tr>\n",
       "      <th>Ketapril</th>\n",
       "      <td>55.235638</td>\n",
       "      <td>53.698743</td>\n",
       "      <td>68.553577</td>\n",
       "      <td>8.279709</td>\n",
       "      <td>0.603860</td>\n",
       "    </tr>\n",
       "    <tr>\n",
       "      <th>Naftisol</th>\n",
       "      <td>54.331565</td>\n",
       "      <td>52.509285</td>\n",
       "      <td>66.173479</td>\n",
       "      <td>8.134708</td>\n",
       "      <td>0.596466</td>\n",
       "    </tr>\n",
       "    <tr>\n",
       "      <th>Placebo</th>\n",
       "      <td>54.033581</td>\n",
       "      <td>52.288934</td>\n",
       "      <td>61.168083</td>\n",
       "      <td>7.821003</td>\n",
       "      <td>0.581331</td>\n",
       "    </tr>\n",
       "    <tr>\n",
       "      <th>Propriva</th>\n",
       "      <td>52.393463</td>\n",
       "      <td>50.909965</td>\n",
       "      <td>43.138803</td>\n",
       "      <td>6.568014</td>\n",
       "      <td>0.525862</td>\n",
       "    </tr>\n",
       "    <tr>\n",
       "      <th>Ramicane</th>\n",
       "      <td>40.216745</td>\n",
       "      <td>40.673236</td>\n",
       "      <td>23.486704</td>\n",
       "      <td>4.846308</td>\n",
       "      <td>0.320955</td>\n",
       "    </tr>\n",
       "    <tr>\n",
       "      <th>Stelasyn</th>\n",
       "      <td>54.233149</td>\n",
       "      <td>52.431737</td>\n",
       "      <td>59.450562</td>\n",
       "      <td>7.710419</td>\n",
       "      <td>0.573111</td>\n",
       "    </tr>\n",
       "    <tr>\n",
       "      <th>Zoniferol</th>\n",
       "      <td>53.236507</td>\n",
       "      <td>51.818479</td>\n",
       "      <td>48.533355</td>\n",
       "      <td>6.966589</td>\n",
       "      <td>0.516398</td>\n",
       "    </tr>\n",
       "  </tbody>\n",
       "</table>\n",
       "</div>"
      ],
      "text/plain": [
       "              Mean Tumor Volume (mm3)  Median Tumor Volume (mm3)  \\\n",
       "Drug Regimen                                                       \n",
       "Capomulin                   40.675741                  41.557809   \n",
       "Ceftamin                    52.591172                  51.776157   \n",
       "Infubinol                   52.884795                  51.820584   \n",
       "Ketapril                    55.235638                  53.698743   \n",
       "Naftisol                    54.331565                  52.509285   \n",
       "Placebo                     54.033581                  52.288934   \n",
       "Propriva                    52.393463                  50.909965   \n",
       "Ramicane                    40.216745                  40.673236   \n",
       "Stelasyn                    54.233149                  52.431737   \n",
       "Zoniferol                   53.236507                  51.818479   \n",
       "\n",
       "              Variance Tumor Volume (mm3)  \\\n",
       "Drug Regimen                                \n",
       "Capomulin                       24.947764   \n",
       "Ceftamin                        39.290177   \n",
       "Infubinol                       43.128684   \n",
       "Ketapril                        68.553577   \n",
       "Naftisol                        66.173479   \n",
       "Placebo                         61.168083   \n",
       "Propriva                        43.138803   \n",
       "Ramicane                        23.486704   \n",
       "Stelasyn                        59.450562   \n",
       "Zoniferol                       48.533355   \n",
       "\n",
       "              Standard Deviation Total Volume (mm3)  \\\n",
       "Drug Regimen                                          \n",
       "Capomulin                                  4.994774   \n",
       "Ceftamin                                   6.268188   \n",
       "Infubinol                                  6.567243   \n",
       "Ketapril                                   8.279709   \n",
       "Naftisol                                   8.134708   \n",
       "Placebo                                    7.821003   \n",
       "Propriva                                   6.568014   \n",
       "Ramicane                                   4.846308   \n",
       "Stelasyn                                   7.710419   \n",
       "Zoniferol                                  6.966589   \n",
       "\n",
       "              Standard Error of the Mean Total Volume (mm3)  \n",
       "Drug Regimen                                                 \n",
       "Capomulin                                          0.329346  \n",
       "Ceftamin                                           0.469821  \n",
       "Infubinol                                          0.492236  \n",
       "Ketapril                                           0.603860  \n",
       "Naftisol                                           0.596466  \n",
       "Placebo                                            0.581331  \n",
       "Propriva                                           0.525862  \n",
       "Ramicane                                           0.320955  \n",
       "Stelasyn                                           0.573111  \n",
       "Zoniferol                                          0.516398  "
      ]
     },
     "execution_count": 6,
     "metadata": {},
     "output_type": "execute_result"
    }
   ],
   "source": [
    "\n",
    "\n",
    "list_drugs=duplicates_gone['Drug Regimen'].tolist()\n",
    "list_drugs\n",
    "\n",
    "#mean of tumor volume by Drug Regimen\n",
    "index_tum_drug=duplicates_gone.set_index('Drug Regimen')['Tumor Volume (mm3)']\n",
    "tum_drug_grouped=index_tum_drug.groupby('Drug Regimen')\n",
    "tum_drug_grouped.mean()\n",
    "\n",
    "#median of tumor volume by Drug Regimen\n",
    "median_tum_drug=tum_drug_grouped.median()\n",
    "median_tum_drug\n",
    "#Variance of tumor volume by Drug Regimen\n",
    "var_tum_drug=tum_drug_grouped.var()\n",
    "var_tum_drug\n",
    "#Standard Deviation of tumor volume by Drug Regimen\n",
    "std_tum_drug=tum_drug_grouped.std()\n",
    "std_tum_drug\n",
    "#sem by drug\n",
    "sem_tum_drug=tum_drug_grouped.sem()\n",
    "sem_tum_drug\n",
    "\n",
    "#create a summary DataFrame\n",
    "summary_df=pd.DataFrame({\n",
    "    \"Mean Tumor Volume (mm3)\": tum_drug_grouped.mean(),\n",
    "    \"Median Tumor Volume (mm3)\": median_tum_drug,\n",
    "    \"Variance Tumor Volume (mm3)\": var_tum_drug,\n",
    "    \"Standard Deviation Total Volume (mm3)\": std_tum_drug,\n",
    "    \"Standard Error of the Mean Total Volume (mm3)\": sem_tum_drug\n",
    "})\n",
    "\n",
    "summary_df"
   ]
  },
  {
   "cell_type": "code",
   "execution_count": 165,
   "id": "8b9b761f",
   "metadata": {},
   "outputs": [
    {
     "data": {
      "text/html": [
       "<div>\n",
       "<style scoped>\n",
       "    .dataframe tbody tr th:only-of-type {\n",
       "        vertical-align: middle;\n",
       "    }\n",
       "\n",
       "    .dataframe tbody tr th {\n",
       "        vertical-align: top;\n",
       "    }\n",
       "\n",
       "    .dataframe thead th {\n",
       "        text-align: right;\n",
       "    }\n",
       "</style>\n",
       "<table border=\"1\" class=\"dataframe\">\n",
       "  <thead>\n",
       "    <tr style=\"text-align: right;\">\n",
       "      <th></th>\n",
       "      <th>mean</th>\n",
       "      <th>median</th>\n",
       "      <th>var</th>\n",
       "      <th>std</th>\n",
       "      <th>sem</th>\n",
       "    </tr>\n",
       "    <tr>\n",
       "      <th>Drug Regimen</th>\n",
       "      <th></th>\n",
       "      <th></th>\n",
       "      <th></th>\n",
       "      <th></th>\n",
       "      <th></th>\n",
       "    </tr>\n",
       "  </thead>\n",
       "  <tbody>\n",
       "    <tr>\n",
       "      <th>Capomulin</th>\n",
       "      <td>40.675741</td>\n",
       "      <td>41.557809</td>\n",
       "      <td>24.947764</td>\n",
       "      <td>4.994774</td>\n",
       "      <td>0.329346</td>\n",
       "    </tr>\n",
       "    <tr>\n",
       "      <th>Ceftamin</th>\n",
       "      <td>52.591172</td>\n",
       "      <td>51.776157</td>\n",
       "      <td>39.290177</td>\n",
       "      <td>6.268188</td>\n",
       "      <td>0.469821</td>\n",
       "    </tr>\n",
       "    <tr>\n",
       "      <th>Infubinol</th>\n",
       "      <td>52.884795</td>\n",
       "      <td>51.820584</td>\n",
       "      <td>43.128684</td>\n",
       "      <td>6.567243</td>\n",
       "      <td>0.492236</td>\n",
       "    </tr>\n",
       "    <tr>\n",
       "      <th>Ketapril</th>\n",
       "      <td>55.235638</td>\n",
       "      <td>53.698743</td>\n",
       "      <td>68.553577</td>\n",
       "      <td>8.279709</td>\n",
       "      <td>0.603860</td>\n",
       "    </tr>\n",
       "    <tr>\n",
       "      <th>Naftisol</th>\n",
       "      <td>54.331565</td>\n",
       "      <td>52.509285</td>\n",
       "      <td>66.173479</td>\n",
       "      <td>8.134708</td>\n",
       "      <td>0.596466</td>\n",
       "    </tr>\n",
       "    <tr>\n",
       "      <th>Placebo</th>\n",
       "      <td>54.033581</td>\n",
       "      <td>52.288934</td>\n",
       "      <td>61.168083</td>\n",
       "      <td>7.821003</td>\n",
       "      <td>0.581331</td>\n",
       "    </tr>\n",
       "    <tr>\n",
       "      <th>Propriva</th>\n",
       "      <td>52.393463</td>\n",
       "      <td>50.909965</td>\n",
       "      <td>43.138803</td>\n",
       "      <td>6.568014</td>\n",
       "      <td>0.525862</td>\n",
       "    </tr>\n",
       "    <tr>\n",
       "      <th>Ramicane</th>\n",
       "      <td>40.216745</td>\n",
       "      <td>40.673236</td>\n",
       "      <td>23.486704</td>\n",
       "      <td>4.846308</td>\n",
       "      <td>0.320955</td>\n",
       "    </tr>\n",
       "    <tr>\n",
       "      <th>Stelasyn</th>\n",
       "      <td>54.233149</td>\n",
       "      <td>52.431737</td>\n",
       "      <td>59.450562</td>\n",
       "      <td>7.710419</td>\n",
       "      <td>0.573111</td>\n",
       "    </tr>\n",
       "    <tr>\n",
       "      <th>Zoniferol</th>\n",
       "      <td>53.236507</td>\n",
       "      <td>51.818479</td>\n",
       "      <td>48.533355</td>\n",
       "      <td>6.966589</td>\n",
       "      <td>0.516398</td>\n",
       "    </tr>\n",
       "  </tbody>\n",
       "</table>\n",
       "</div>"
      ],
      "text/plain": [
       "                   mean     median        var       std       sem\n",
       "Drug Regimen                                                     \n",
       "Capomulin     40.675741  41.557809  24.947764  4.994774  0.329346\n",
       "Ceftamin      52.591172  51.776157  39.290177  6.268188  0.469821\n",
       "Infubinol     52.884795  51.820584  43.128684  6.567243  0.492236\n",
       "Ketapril      55.235638  53.698743  68.553577  8.279709  0.603860\n",
       "Naftisol      54.331565  52.509285  66.173479  8.134708  0.596466\n",
       "Placebo       54.033581  52.288934  61.168083  7.821003  0.581331\n",
       "Propriva      52.393463  50.909965  43.138803  6.568014  0.525862\n",
       "Ramicane      40.216745  40.673236  23.486704  4.846308  0.320955\n",
       "Stelasyn      54.233149  52.431737  59.450562  7.710419  0.573111\n",
       "Zoniferol     53.236507  51.818479  48.533355  6.966589  0.516398"
      ]
     },
     "execution_count": 165,
     "metadata": {},
     "output_type": "execute_result"
    }
   ],
   "source": [
    "#Calculate summary statistics using agg function\n",
    "agg_sum_df=tum_drug_grouped.agg(['mean','median','var','std','sem'])\n",
    "agg_sum_df"
   ]
  },
  {
   "cell_type": "markdown",
   "id": "793ad1d3",
   "metadata": {},
   "source": [
    "# Bar plots"
   ]
  },
  {
   "cell_type": "code",
   "execution_count": 203,
   "id": "efa983cc",
   "metadata": {},
   "outputs": [
    {
     "data": {
      "image/png": "[encoded data removed]",
      "text/plain": [
       "<Figure size 396x360 with 1 Axes>"
      ]
     },
     "metadata": {
      "needs_background": "light"
     },
     "output_type": "display_data"
    }
   ],
   "source": [
    "#Chart the number of timepoints for each Drug Regimen using Pandas Plot\n",
    "drug_tp=duplicates_gone.groupby('Drug Regimen')\n",
    "drug_tp\n",
    "\n",
    "timepoint_count=drug_tp['Timepoint'].count()\n",
    "timepoint_count\n",
    "\n",
    "drug_tp_chart=timepoint_count.plot(kind='bar',figsize=(5.5,5))\n",
    "drug_tp_chart\n",
    "\n",
    "drug_tp_chart.set_xlabel(\"Drug Regimen\")\n",
    "drug_tp_chart.set_ylabel(\"Number of Timepoints\")\n",
    "drug_tp_chart.set_title(\"Number of Timepoints per Drug Regimen\")\n",
    "\n",
    "\n",
    "plt.show()"
   ]
  },
  {
   "cell_type": "code",
   "execution_count": null,
   "id": "364fc1d4",
   "metadata": {},
   "outputs": [],
   "source": [
    "# Chart the number of timepoints for each Drug Regimen using pyplot\n",
    "sorted=duplicates_gone['Drug Regimen']\n",
    "sorted_alpha=sorted.sort_values()\n",
    "sorted_alpha_unique=sorted_alpha.unique()\n",
    "sorted_alpha_unique\n",
    "\n",
    "x_axis=sorted_alpha_unique\n",
    "y_axis=timepoint_count\n",
    "\n",
    "plt.bar(x_axis,y_axis,color='b')\n",
    "plt.xticks(rotation=90)\n",
    "\n",
    "plt.title(\"Number of Timepoints per Drug Regimen\")\n",
    "plt.xlabel(\"Drug Regiment\")\n",
    "plt.ylabel(\"Number of Timepoints\")"
   ]
  },
  {
   "cell_type": "markdown",
   "id": "680d956b",
   "metadata": {},
   "source": [
    "# Pie charts"
   ]
  },
  {
   "cell_type": "code",
   "execution_count": 9,
   "id": "6ce60a59",
   "metadata": {},
   "outputs": [
    {
     "name": "stdout",
     "output_type": "stream",
     "text": [
      "930\n",
      "958\n"
     ]
    },
    {
     "data": {
      "text/plain": [
       "Text(0, 0.5, 'Sex')"
      ]
     },
     "execution_count": 9,
     "metadata": {},
     "output_type": "execute_result"
    },
    {
     "data": {
      "image/png": "[encoded data removed]",
      "text/plain": [
       "<Figure size 432x288 with 1 Axes>"
      ]
     },
     "metadata": {},
     "output_type": "display_data"
    }
   ],
   "source": [
    "male_mice=duplicates_gone.loc[duplicates_gone['Sex']=='Male']\n",
    "len(male_mice)\n",
    "\n",
    "female_mice=duplicates_gone.loc[duplicates_gone['Sex']=='Female']\n",
    "len(female_mice)\n",
    "\n",
    "\n",
    "#plot distribution of male and female mice using pyplot\n",
    "print (len(female_mice))\n",
    "print (len(male_mice))\n",
    "\n",
    "sexes=['Female','Male']\n",
    "counts=[len(female_mice),len(male_mice)]\n",
    "colors=[\"blue\",\"orange\"]\n",
    "\n",
    "plt.pie(counts,labels=sexes,colors=colors,autopct=\"%1.0f%%\")\n",
    "plt.ylabel(\"Sex\")\n"
   ]
  },
  {
   "cell_type": "code",
   "execution_count": 10,
   "id": "ca4ab689",
   "metadata": {},
   "outputs": [
    {
     "data": {
      "text/plain": [
       "Text(0, 0.5, 'Sex')"
      ]
     },
     "execution_count": 10,
     "metadata": {},
     "output_type": "execute_result"
    },
    {
     "data": {
      "image/png": "[encoded data removed]",
      "text/plain": [
       "<Figure size 432x288 with 1 Axes>"
      ]
     },
     "metadata": {},
     "output_type": "display_data"
    }
   ],
   "source": [
    "#plot distribution of male and female mice using pandas plot\n",
    "grouped_sex=duplicates_gone.groupby('Sex')\n",
    "grouped_sex\n",
    "\n",
    "grouped_sex_count=grouped_sex['Mouse ID'].count()\n",
    "grouped_sex_count\n",
    "\n",
    "grouped_sex_count_chart=grouped_sex_count.plot(kind='pie',autopct=\"%1.0f%%\",colors=['blue','orange'])\n",
    "grouped_sex_count_chart\n",
    "\n",
    "grouped_sex_count_chart.set_ylabel('Sex')"
   ]
  },
  {
   "cell_type": "markdown",
   "id": "ba7eddae",
   "metadata": {},
   "source": [
    "# Quartiles, Outliers, and Boxplots "
   ]
  },
  {
   "cell_type": "code",
   "execution_count": 11,
   "id": "f63a2298",
   "metadata": {},
   "outputs": [
    {
     "data": {
      "text/plain": [
       "Mouse ID\n",
       "a203    45\n",
       "a251    45\n",
       "a262    45\n",
       "a275    45\n",
       "a366    30\n",
       "        ..\n",
       "z435    10\n",
       "z578    45\n",
       "z581    45\n",
       "z795    45\n",
       "z969    45\n",
       "Name: Timepoint, Length: 249, dtype: int64"
      ]
     },
     "execution_count": 11,
     "metadata": {},
     "output_type": "execute_result"
    }
   ],
   "source": [
    "# Calculate the final tumor volume of each mouse across four of the treatment regimens:  \n",
    "# Capomulin, Ramicane, Infubinol, and Ceftamin\n",
    "\n",
    "# Start by getting the last (greatest) timepoint for each mouse\n",
    "group_time=duplicates_gone.groupby(['Mouse ID'])\n",
    "max_timepoint_byMouseID=group_time['Timepoint'].max()\n",
    "pd.DataFrame(max_timepoint_byMouseID)\n",
    "max_timepoint_byMouseID\n",
    "\n",
    "\n",
    "\n"
   ]
  },
  {
   "cell_type": "code",
   "execution_count": 12,
   "id": "e672bdfa",
   "metadata": {
    "scrolled": false
   },
   "outputs": [
    {
     "name": "stdout",
     "output_type": "stream",
     "text": [
      "The lower quartile of Tumor Volume (mm3) is: 32.37735684\n",
      "The upper quartile of Tumor Volume (mm3) is: 40.1592203\n",
      "The interquartile range of Tumor Volume (mm3) is: 7.781863460000004\n",
      "The the median of Tumor Volume (mm3) is: 38.1251644 \n",
      "Values below 20.70456164999999 could be outliers.\n",
      "Values above 51.83201549 could be outliers.\n",
      "The lower quartile of Tumor Volume (mm3) is: 31.56046955\n",
      "The upper quartile of Tumor Volume (mm3) is: 40.65900627\n",
      "The interquartile range of Tumor Volume (mm3) is: 9.098536719999998\n",
      "The the median of Tumor Volume (mm3) is: 36.56165229 \n",
      "Values below 17.912664470000003 could be outliers.\n",
      "Values above 54.30681135 could be outliers.\n",
      "The lower quartile of Tumor Volume (mm3) is: 54.04860769\n",
      "The upper quartile of Tumor Volume (mm3) is: 65.52574285\n",
      "The interquartile range of Tumor Volume (mm3) is: 11.477135160000003\n",
      "The the median of Tumor Volume (mm3) is: 60.16518046 \n",
      "Values below 36.83290494999999 could be outliers.\n",
      "Values above 82.74144559000001 could be outliers.\n",
      "The lower quartile of Tumor Volume (mm3) is: 48.72207785\n",
      "The upper quartile of Tumor Volume (mm3) is: 64.29983003\n",
      "The interquartile range of Tumor Volume (mm3) is: 15.577752179999997\n",
      "The the median of Tumor Volume (mm3) is: 59.85195552 \n",
      "Values below 25.355449580000002 could be outliers.\n",
      "Values above 87.66645829999999 could be outliers.\n"
     ]
    }
   ],
   "source": [
    "# Merge this group df with the original dataframe to get the tumor volume at the last timepoint\n",
    "including_maxtp=pd.merge(duplicates_gone, max_timepoint_byMouseID, how=\"right\", on=[\"Mouse ID\",\"Timepoint\"])\n",
    "including_maxtp\n",
    "\n",
    "# Put treatments into a list for for loop (and later for plot labels)\n",
    "drug_regimens=['Capomulin','Ramicane','Infubinol','Ceftamin']\n",
    "\n",
    "\n",
    "# # Create empty list to fill with tumor vol data (for plotting)\n",
    "tumor_vol=[]\n",
    "\n",
    "# # Calculate the IQR and quantitatively determine if there are any potential outliers. \n",
    "\n",
    "for drug in drug_regimens:\n",
    "\n",
    "#     # Locate the rows which contain mice on each drug and get the tumor volumes\n",
    "    mice_each_drug_tum=including_maxtp.loc[including_maxtp['Drug Regimen']==drug,'Tumor Volume (mm3)']\n",
    "\n",
    "    tumor_vol.append(mice_each_drug_tum)\n",
    "    \n",
    "    \n",
    "#    Determine outliers using upper and lower bounds\n",
    "    quartiles =mice_each_drug_tum.quantile([.25,.5,.75])\n",
    "    lowerq = quartiles[0.25]\n",
    "    upperq = quartiles[0.75]\n",
    "    iqr = upperq-lowerq\n",
    "\n",
    "    print(f\"The lower quartile of Tumor Volume (mm3) is: {lowerq}\")\n",
    "    print(f\"The upper quartile of Tumor Volume (mm3) is: {upperq}\")\n",
    "    print(f\"The interquartile range of Tumor Volume (mm3) is: {iqr}\")\n",
    "    print(f\"The the median of Tumor Volume (mm3) is: {quartiles[0.5]} \")\n",
    "\n",
    "    lower_bound = lowerq - (1.5*iqr)\n",
    "    upper_bound = upperq + (1.5*iqr)\n",
    "    print(f\"Values below {lower_bound} could be outliers.\")\n",
    "    print(f\"Values above {upper_bound} could be outliers.\")\n",
    "\n",
    "    #Lines 1-6 are for Capomulin\n",
    "    #Lines 7-12 are for Ramican\n",
    "    #Lines 13-18 are for Infubinol\n",
    "    #Lines 19-24 are for Ceftamin"
   ]
  },
  {
   "cell_type": "code",
   "execution_count": 205,
   "id": "c9e25822",
   "metadata": {},
   "outputs": [
    {
     "data": {
      "image/png": "[encoded data removed]",
      "text/plain": [
       "<Figure size 432x288 with 1 Axes>"
      ]
     },
     "metadata": {
      "needs_background": "light"
     },
     "output_type": "display_data"
    }
   ],
   "source": [
    "#box plot representing four different drug regimens\n",
    "fig1, ax1 = plt.subplots()\n",
    "ax1.set_title('Final Tumor Volume By Drug Regimen', fontsize=16, fontweight='bold')\n",
    "ax1.set_ylabel(' Final Tumor Volume (mm3)',fontsize=13)\n",
    "ax1.set_xlabel('Drug Regimen',fontsize=13)\n",
    "ax1.boxplot(tumor_vol)\n",
    "ax1.set_xticklabels(drug_regimens)\n",
    "plt.xticks(fontsize=10, fontweight='bold')\n",
    "plt.yticks(fontsize=10, fontweight='bold')\n",
    "plt.show()"
   ]
  },
  {
   "cell_type": "markdown",
   "id": "51997dfa",
   "metadata": {},
   "source": [
    "# Line and Scatter Plot"
   ]
  },
  {
   "cell_type": "code",
   "execution_count": 14,
   "id": "0bc88099",
   "metadata": {},
   "outputs": [
    {
     "data": {
      "text/plain": [
       "Text(0, 0.5, 'Timepoint (Days)')"
      ]
     },
     "execution_count": 14,
     "metadata": {},
     "output_type": "execute_result"
    },
    {
     "data": {
      "image/png": "[encoded data removed]",
      "text/plain": [
       "<Figure size 432x288 with 1 Axes>"
      ]
     },
     "metadata": {
      "needs_background": "light"
     },
     "output_type": "display_data"
    }
   ],
   "source": [
    "#1. Select a mouse that was treated with Capomulin and generate a line plot of tumor volume vs. time point for that mouse.\n",
    "#lets show our total dataset again\n",
    "duplicates_gone\n",
    "\n",
    "#generate a dataset of all unique mice treated by Capomulin\n",
    "duplicates_gone['Mouse ID'].unique()\n",
    "capomulin_mice=duplicates_gone.loc[duplicates_gone['Drug Regimen']=='Capomulin']\n",
    "list_capomulin_mice=capomulin_mice['Mouse ID'].unique()\n",
    "list_capomulin_mice\n",
    "#Choose one mouse from the list of Capomulin treated mice. Let's choose j119\n",
    "\n",
    "chosen_mouse=capomulin_mice.loc[capomulin_mice['Mouse ID']=='j119']\n",
    "chosen_mouse\n",
    "\n",
    "#Obtain the columns we need for our line plot (tumor volume & time point)\n",
    "j119_tum_vol=chosen_mouse['Tumor Volume (mm3)']\n",
    "j119_tum_vol\n",
    "\n",
    "j119_time_point=chosen_mouse['Timepoint']\n",
    "j119_time_point\n",
    "\n",
    "j119_line_plot=plt.plot(j119_time_point,j119_tum_vol,color='orange')\n",
    "plt.title('Tumor Volume (mm3) by Timepoint for Mouse: J119')\n",
    "plt.xlabel('Tumor Volume (mm3)')\n",
    "plt.ylabel('Timepoint (Days)')"
   ]
  },
  {
   "cell_type": "code",
   "execution_count": 121,
   "id": "d73581cb",
   "metadata": {},
   "outputs": [
    {
     "data": {
      "image/png": "[encoded data removed]",
      "text/plain": [
       "<Figure size 432x288 with 1 Axes>"
      ]
     },
     "metadata": {
      "needs_background": "light"
     },
     "output_type": "display_data"
    }
   ],
   "source": [
    "#2. Generate a scatter plot of tumor volume versus mouse weight for the Capomulin treatment regimen.\n",
    "#define what to use as axis.\n",
    "capomulin_mice=duplicates_gone.loc[duplicates_gone['Drug Regimen']=='Capomulin']\n",
    "capomulin_mice\n",
    "tum_vol_cap=capomulin_mice['Tumor Volume (mm3)']\n",
    "tum_vol_cap\n",
    "\n",
    "mouse_weight_cap=capomulin_mice['Weight (g)']\n",
    "mouse_weight_cap\n",
    "\n",
    "plt.scatter(mouse_weight_cap,tum_vol_cap, marker=\"o\", facecolors='orange')\n",
    "plt.xlabel('Mouse Weight (g)',color='red')\n",
    "plt.ylabel('Tumor Volume (mm3)', color='blue')\n",
    "plt.title('Mouse Weight by Tumor Volume (mm3) across Capomulin Treatment', fontweight='bold')\n",
    "plt.xlim(12,27)\n",
    "plt.ylim(15,50)\n",
    "plt.show()\n"
   ]
  },
  {
   "cell_type": "markdown",
   "id": "78dc7ad0",
   "metadata": {},
   "source": [
    "# Correlation and Regression"
   ]
  },
  {
   "cell_type": "code",
   "execution_count": 114,
   "id": "308f290c",
   "metadata": {},
   "outputs": [
    {
     "data": {
      "text/plain": [
       "[41.963635634,\n",
       " 40.083699304,\n",
       " 36.50597276,\n",
       " 41.990096605999994,\n",
       " 44.613343895999996,\n",
       " 44.805809685,\n",
       " 39.14105275,\n",
       " 44.465236345,\n",
       " 43.21692460875,\n",
       " 44.43447379,\n",
       " 42.507261035,\n",
       " 34.847469897,\n",
       " 39.049816448,\n",
       " 45.7989695075,\n",
       " 36.509212046,\n",
       " 43.367364453,\n",
       " 34.559143395,\n",
       " 42.803733044,\n",
       " 39.328725099,\n",
       " 39.887495191,\n",
       " 41.581595101,\n",
       " 41.38482521,\n",
       " 41.352452281,\n",
       " 36.182039562,\n",
       " 38.506829248]"
      ]
     },
     "execution_count": 114,
     "metadata": {},
     "output_type": "execute_result"
    }
   ],
   "source": [
    "#Calculate the correlation coefficient and linear regression model between mouse weight and average tumor\n",
    "#volume for the Capomulin treatment. #perform a groupby by mouse and then take average tumor volume.\n",
    "capomulin_mice\n",
    "\n",
    "#create our list for average tumor volume for mice treated by Capomulin\n",
    "grouped_cap_mice_avgtumvol=capomulin_mice.groupby(['Mouse ID']).mean()['Tumor Volume (mm3)']\n",
    "grouped_cap_mice_avgtumvol\n",
    "avg_tum_vol_by_mouse_list=grouped_cap_mice_avgtumvol.tolist()\n",
    "avg_tum_vol_by_mouse_list\n",
    "                               "
   ]
  },
  {
   "cell_type": "code",
   "execution_count": 143,
   "id": "4544be32",
   "metadata": {},
   "outputs": [
    {
     "data": {
      "text/plain": [
       "Mouse ID\n",
       "b128    22.0\n",
       "b742    21.0\n",
       "f966    17.0\n",
       "g288    19.0\n",
       "g316    22.0\n",
       "i557    24.0\n",
       "i738    20.0\n",
       "j119    23.0\n",
       "j246    21.0\n",
       "l509    21.0\n",
       "l897    19.0\n",
       "m601    17.0\n",
       "m957    19.0\n",
       "r157    25.0\n",
       "r554    17.0\n",
       "r944    25.0\n",
       "s185    17.0\n",
       "s710    23.0\n",
       "t565    17.0\n",
       "u364    17.0\n",
       "v923    21.0\n",
       "w150    23.0\n",
       "w914    21.0\n",
       "x401    15.0\n",
       "y793    17.0\n",
       "Name: Weight (g), dtype: float64"
      ]
     },
     "execution_count": 143,
     "metadata": {},
     "output_type": "execute_result"
    }
   ],
   "source": [
    "# obtain mouse weight for mice treated by Capomulin\n",
    "grouped_cap_mice_weight=capomulin_mice.groupby(['Mouse ID']).mean()['Weight (g)']\n",
    "grouped_cap_mice_weight    "
   ]
  },
  {
   "cell_type": "code",
   "execution_count": 122,
   "id": "c1601bf9",
   "metadata": {},
   "outputs": [
    {
     "data": {
      "image/png": "[encoded data removed]",
      "text/plain": [
       "<Figure size 432x288 with 1 Axes>"
      ]
     },
     "metadata": {
      "needs_background": "light"
     },
     "output_type": "display_data"
    }
   ],
   "source": [
    "plt.scatter(grouped_cap_mice_weight,avg_tum_vol_by_mouse_list, marker=\"*\", facecolors='green')\n",
    "plt.xlabel('Mouse Weight (g)', color='red',)\n",
    "plt.ylabel('Average Tumor Volume (mm3)', color='blue')\n",
    "plt.title('Average Tumor Volume by Mouse Weight-Capomulin Regimen', fontweight='bold')\n",
    "plt.show()"
   ]
  },
  {
   "cell_type": "code",
   "execution_count": 156,
   "id": "182b634c",
   "metadata": {},
   "outputs": [
    {
     "name": "stdout",
     "output_type": "stream",
     "text": [
      "The correlation between Mouse weight (g) and Average Tumor Volume (mm3) is 0.842\n"
     ]
    }
   ],
   "source": [
    "# Calculate the correlation coefficient between Mouse weight and Average Tumor Volume\n",
    "correlation2=st.pearsonr(grouped_cap_mice_weight,avg_tum_vol_by_mouse_list)\n",
    "print(f\"The correlation between Mouse weight (g) and Average Tumor Volume (mm3) is {round(correlation2[0],3)}\")"
   ]
  },
  {
   "cell_type": "code",
   "execution_count": 153,
   "id": "c7518e99",
   "metadata": {},
   "outputs": [
    {
     "data": {
      "image/png": "[encoded data removed]",
      "text/plain": [
       "<Figure size 432x288 with 1 Axes>"
      ]
     },
     "metadata": {
      "needs_background": "light"
     },
     "output_type": "display_data"
    }
   ],
   "source": [
    "#Calculate the linear regression model between mouse weight and average tumor volume for the Capomulin treatment. \n",
    "vc_slope, vc_int, vc_r, vc_p, vc_std_err = stats.linregress(grouped_cap_mice_weight,avg_tum_vol_by_mouse_list)\n",
    "vc_fit = vc_slope * grouped_cap_mice_weight + vc_int\n",
    "\n",
    "#Plot the linear regression model on top of the previous scatter plot.\n",
    "plt.scatter(grouped_cap_mice_weight,avg_tum_vol_by_mouse_list, marker=\"*\", facecolors='green')\n",
    "plt.xlabel('Mouse Weight (g)', color='red',)\n",
    "plt.ylabel('Average Tumor Volume (mm3)', color='blue')\n",
    "plt.title('Average Tumor Volume by Mouse Weight-Capomulin Regimen', fontweight='bold')\n",
    "plt.plot(grouped_cap_mice_weight,vc_fit,\"-\")\n",
    "plt.show()\n"
   ]
  }
 ],
 "metadata": {
  "kernelspec": {
   "display_name": "Python 3 (ipykernel)",
   "language": "python",
   "name": "python3"
  },
  "language_info": {
   "codemirror_mode": {
    "name": "ipython",
    "version": 3
   },
   "file_extension": ".py",
   "mimetype": "text/x-python",
   "name": "python",
   "nbconvert_exporter": "python",
   "pygments_lexer": "ipython3",
   "version": "3.9.7"
  }
 },
 "nbformat": 4,
 "nbformat_minor": 5
}
